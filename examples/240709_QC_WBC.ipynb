{
 "cells": [
  {
   "cell_type": "markdown",
   "metadata": {},
   "source": [
    "## import ##"
   ]
  },
  {
   "cell_type": "code",
   "execution_count": 6,
   "metadata": {},
   "outputs": [],
   "source": [
    "import cv2\n",
    "import numpy as np\n",
    "import matplotlib.pyplot as plt\n",
    "from tqdm import tqdm\n",
    "from PIL import Image\n",
    "\n",
    "import openslide\n",
    "from openslide import OpenSlide, OpenSlideError\n",
    "from torch.utils.data import DataLoader\n",
    "\n",
    "import sys\n",
    "sys.path.append(\"/workspace\")\n",
    "import smear_loader\n",
    "import smear_loader_2\n",
    "\n",
    "import time"
   ]
  },
  {
   "cell_type": "markdown",
   "metadata": {},
   "source": [
    "## Implementation of dataloader ##"
   ]
  },
  {
   "cell_type": "code",
   "execution_count": 10,
   "metadata": {},
   "outputs": [
    {
     "data": {
      "text/plain": [
       "'NVIDIA RTX A6000'"
      ]
     },
     "execution_count": 10,
     "metadata": {},
     "output_type": "execute_result"
    }
   ],
   "source": [
    "import torch\n",
    "torch.cuda.get_device_name(0)"
   ]
  },
  {
   "cell_type": "code",
   "execution_count": 11,
   "metadata": {},
   "outputs": [],
   "source": [
    "slide_path = \"/workspace/2024_05_27__1138-04.tif\""
   ]
  },
  {
   "cell_type": "code",
   "execution_count": 12,
   "metadata": {},
   "outputs": [
    {
     "name": "stdout",
     "output_type": "stream",
     "text": [
      "Total Patches: 100\n",
      "Final Patches (passed QC): 51\n",
      "6.361562490463257\n"
     ]
    }
   ],
   "source": [
    "start = time.time()\n",
    "cropped_dataset = smear_loader_2.SmearDatasetQC(slide_path=slide_path,h=1024,w=1024,extra_padding=128,x_start=30000,x_end=40000,y_start=70000,y_end=80000,qc=True, wbc_qc=False)\n",
    "cropped_dataloader = DataLoader(cropped_dataset, batch_size=16, shuffle=False)\n",
    "end = time.time()\n",
    "print(end - start)  "
   ]
  },
  {
   "cell_type": "code",
   "execution_count": 13,
   "metadata": {},
   "outputs": [
    {
     "name": "stdout",
     "output_type": "stream",
     "text": [
      "Total Patches: 100\n",
      "Final Patches (passed QC): 36\n",
      "Total number of WBC detected: 51\n",
      "18.209603309631348\n"
     ]
    }
   ],
   "source": [
    "start = time.time()\n",
    "cropped_dataset = smear_loader_2.SmearDatasetQC(slide_path=slide_path,h=1024,w=1024,extra_padding=128,x_start=30000,x_end=40000,y_start=70000,y_end=80000,qc=True, wbc_qc=True)\n",
    "cropped_dataloader = DataLoader(cropped_dataset, batch_size=16, shuffle=False)\n",
    "end = time.time()\n",
    "print(end - start)  "
   ]
  }
 ],
 "metadata": {
  "kernelspec": {
   "display_name": "Python 3",
   "language": "python",
   "name": "python3"
  },
  "language_info": {
   "codemirror_mode": {
    "name": "ipython",
    "version": 3
   },
   "file_extension": ".py",
   "mimetype": "text/x-python",
   "name": "python",
   "nbconvert_exporter": "python",
   "pygments_lexer": "ipython3",
   "version": "3.10.9"
  }
 },
 "nbformat": 4,
 "nbformat_minor": 2
}
